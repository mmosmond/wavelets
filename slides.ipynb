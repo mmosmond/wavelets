{
 "cells": [
  {
   "cell_type": "code",
   "execution_count": 2,
   "id": "cc7209f8",
   "metadata": {
    "scrolled": true,
    "slideshow": {
     "slide_type": "skip"
    }
   },
   "outputs": [],
   "source": [
    "import numpy as np\n",
    "import matplotlib.pyplot as plt\n",
    "import ipywidgets as widgets\n",
    "from ipywidgets import HBox, VBox\n",
    "from IPython.display import display\n",
    "%matplotlib inline"
   ]
  },
  {
   "cell_type": "markdown",
   "id": "f13b2ce5",
   "metadata": {
    "slideshow": {
     "slide_type": "slide"
    }
   },
   "source": [
    "# Wavelet characterization of spatial pattern in allele frequency\n",
    "## Jesse Lasky, Diana Gamba, Timothy Kiett"
   ]
  },
  {
   "cell_type": "markdown",
   "id": "16b3c2e6",
   "metadata": {
    "slideshow": {
     "slide_type": "slide"
    }
   },
   "source": [
    "## The problem\n",
    "\n",
    "Want to better understand spatial patterns of allele frequency (eg, local adaptation, range expansion), but "
   ]
  },
  {
   "cell_type": "markdown",
   "id": "148a8035",
   "metadata": {
    "slideshow": {
     "slide_type": "fragment"
    }
   },
   "source": [
    "1. don't want to have to define discrete 'populations' (eg, $F_{ST}$, EEMS)\n",
    "    - arbitrary\n",
    "    - might not be correct spatial scale"
   ]
  },
  {
   "cell_type": "markdown",
   "id": "24c4c4f9",
   "metadata": {
    "slideshow": {
     "slide_type": "fragment"
    }
   },
   "source": [
    "2. ordinations (eg, PCA) \"heavily influenced by global outliers of genetic divergence\" (??)"
   ]
  },
  {
   "cell_type": "markdown",
   "id": "7a393cc5",
   "metadata": {
    "slideshow": {
     "slide_type": "slide"
    }
   },
   "source": [
    "## The solution"
   ]
  },
  {
   "cell_type": "markdown",
   "id": "1e8ecdd4",
   "metadata": {
    "slideshow": {
     "slide_type": "fragment"
    }
   },
   "source": [
    "Wavelets: localized, scale-specific patterns"
   ]
  },
  {
   "cell_type": "markdown",
   "id": "1147ea1f",
   "metadata": {
    "slideshow": {
     "slide_type": "fragment"
    }
   },
   "source": [
    "In music, this is the volume of a note (of a given frequency) heard at a given time."
   ]
  },
  {
   "cell_type": "markdown",
   "id": "c4452a41",
   "metadata": {
    "slideshow": {
     "slide_type": "fragment"
    }
   },
   "source": [
    "Here, this is the rate of allele frequency change (at a given scale) at a given location."
   ]
  },
  {
   "cell_type": "markdown",
   "id": "aef4ebd3",
   "metadata": {
    "slideshow": {
     "slide_type": "fragment"
    }
   },
   "source": [
    "![image](images/fig-s1.png)"
   ]
  },
  {
   "cell_type": "markdown",
   "id": "44a3e980",
   "metadata": {
    "slideshow": {
     "slide_type": "slide"
    }
   },
   "source": [
    "## The details"
   ]
  },
  {
   "cell_type": "markdown",
   "id": "97217f5f",
   "metadata": {
    "slideshow": {
     "slide_type": "subslide"
    }
   },
   "source": [
    "### Gaussian smoothing function\n",
    "$$\n",
    "\\eta_{a,b}^s(x,y) = \\frac{k\\left(\\frac{x-a}{s},\\frac{y-b}{s}\\right)}{\\sum_{(u,v)\\in\\Omega}k\\left(\\frac{u-a}{s},\\frac{v-b}{s}\\right)}\n",
    "$$\n",
    "where\n",
    "$$k(x,y)=e^{-(x^2+y^2)/2}$$\n",
    "is a Gaussian kernel and\n",
    "$$\\Omega=\\{(u_1,v_1),(u_2,v_2),...,(u_n,v_n)\\}$$\n",
    "is the set of sampling points."
   ]
  },
  {
   "cell_type": "code",
   "execution_count": 3,
   "id": "d6d40808",
   "metadata": {
    "scrolled": true,
    "slideshow": {
     "slide_type": "fragment"
    }
   },
   "outputs": [],
   "source": [
    "def k(x):\n",
    "    return np.exp(-(sum(x**2))/2)\n",
    "\n",
    "def eta(x,a,s,omega):\n",
    "    return k((x-a)/s)/sum(list(map(k,omega/s)))"
   ]
  },
  {
   "cell_type": "code",
   "execution_count": 4,
   "id": "1f101403",
   "metadata": {
    "scrolled": false,
    "slideshow": {
     "slide_type": "subslide"
    }
   },
   "outputs": [
    {
     "data": {
      "application/vnd.jupyter.widget-view+json": {
       "model_id": "b87b788272594a41ab1dcbf407cbe4cf",
       "version_major": 2,
       "version_minor": 0
      },
      "text/plain": [
       "interactive(children=(FloatSlider(value=4.5, description='a', max=9.0), FloatSlider(value=1.0, description='s'…"
      ]
     },
     "metadata": {},
     "output_type": "display_data"
    }
   ],
   "source": [
    "@widgets.interact(a=(0.0,9),s=(0.1,10))\n",
    "def plot_eta(a=4.5,s=1):\n",
    "    omega = np.array(np.meshgrid(range(10))).T.reshape(-1,1)\n",
    "    xs = np.linspace(0,9,100)\n",
    "    etas = np.array([eta(i,a=np.array([a]),s=s,omega=omega) for i in xs])\n",
    "    fig, ax = plt.subplots()\n",
    "    ax.plot(xs,etas)\n",
    "    ax.set_ylabel(r'$\\eta_a^s(x)$')\n",
    "    ax.set_xlabel(r'$x$')\n",
    "    plt.show()"
   ]
  },
  {
   "cell_type": "markdown",
   "id": "2a4ad225",
   "metadata": {
    "slideshow": {
     "slide_type": "subslide"
    }
   },
   "source": [
    "### Difference of Gaussians wavelet filter\n",
    "$$\n",
    "\\psi_{a,b}^s(x,y) = \\eta_{a,b}^s(x,y) - \\eta_{a,b}^{\\beta s}(x,y)\n",
    "$$\n",
    "with $\\beta>1$."
   ]
  },
  {
   "cell_type": "code",
   "execution_count": 5,
   "id": "53dc2c1a",
   "metadata": {
    "scrolled": true,
    "slideshow": {
     "slide_type": "fragment"
    }
   },
   "outputs": [],
   "source": [
    "def psi(x,a,s,omega,beta):\n",
    "    return eta(x,a,s,omega) - eta(x,a,beta*s,omega)"
   ]
  },
  {
   "cell_type": "code",
   "execution_count": 7,
   "id": "ae65fafc",
   "metadata": {
    "scrolled": false,
    "slideshow": {
     "slide_type": "subslide"
    }
   },
   "outputs": [
    {
     "data": {
      "application/vnd.jupyter.widget-view+json": {
       "model_id": "62b9fd1e3a4a4f079682a80e71474525",
       "version_major": 2,
       "version_minor": 0
      },
      "text/plain": [
       "interactive(children=(FloatSlider(value=4.5, description='a', max=9.0), FloatSlider(value=1.0, description='s'…"
      ]
     },
     "metadata": {},
     "output_type": "display_data"
    }
   ],
   "source": [
    "@widgets.interact(a=(0.0,9),s=(0.1,10),beta=(1.0,10))\n",
    "def plot_psi(a=4.5,s=1,beta=1.87):\n",
    "    omega = np.array(np.meshgrid(range(10))).T.reshape(-1,1)\n",
    "    xs = np.linspace(0,9,100)\n",
    "    etas = np.array([eta(i,a=np.array([a]),s=s,omega=omega) for i in xs])\n",
    "    etas2 = np.array([eta(i,a=np.array([a]),s=s*beta,omega=omega) for i in xs])\n",
    "    psis = np.array([psi(i,a=np.array([a]),s=s,omega=omega,beta=beta) for i in xs])\n",
    "    fig, ax = plt.subplots()\n",
    "    ax.plot(xs,etas, label=r'$\\eta_a^s(x)$')\n",
    "    ax.plot(xs,etas2, label=r'$\\eta_a^{\\beta s}(x)$')\n",
    "    ax.plot(xs,psis, label=r'$\\psi_a^s(x)$')\n",
    "#     ax.set_ylabel(r'$\\psi_a^s(x)$')\n",
    "    ax.set_xlabel(r'$x$')\n",
    "    plt.legend()\n",
    "    plt.show()"
   ]
  },
  {
   "cell_type": "markdown",
   "id": "b014d8f7",
   "metadata": {
    "slideshow": {
     "slide_type": "subslide"
    }
   },
   "source": [
    "### Adaptive wavelet transform\n",
    "$$\n",
    "(T^{wav}f_i)(a,b,s) = \\frac{1}{h_{a,b}(s)}\\sum_{(u,v)\\in\\Omega}\\psi_{a,b}^s(u,v) f_i(u,v)\n",
    "$$\n",
    "where\n",
    "$$\n",
    "h_{a,b}(s) = \\sqrt{\\sum_{(u,v)\\in\\Omega}[\\psi_{a,b}^s(u,v)]^2}\n",
    "$$\n",
    "is a normalization constant."
   ]
  },
  {
   "cell_type": "code",
   "execution_count": 8,
   "id": "11ece909",
   "metadata": {
    "scrolled": true,
    "slideshow": {
     "slide_type": "fragment"
    }
   },
   "outputs": [],
   "source": [
    "def h(a,s,omega,beta):\n",
    "    return sum([psi(u,a,s,omega,beta)**2 for u in omega])\n",
    "    \n",
    "def Twavfi(a,s,omega,beta,fi):\n",
    "    return sum([psi(u,a,s,omega,beta)*fi(u) for u in omega])/h(a,s,omega,beta)"
   ]
  },
  {
   "cell_type": "code",
   "execution_count": 9,
   "id": "4e17411e",
   "metadata": {
    "scrolled": false,
    "slideshow": {
     "slide_type": "subslide"
    }
   },
   "outputs": [
    {
     "data": {
      "application/vnd.jupyter.widget-view+json": {
       "model_id": "60dbe2e5d5c64b019a4b9829bc6cb16c",
       "version_major": 2,
       "version_minor": 0
      },
      "text/plain": [
       "interactive(children=(FloatSlider(value=4.5, description='a', max=9.0), FloatSlider(value=1.0, description='s'…"
      ]
     },
     "metadata": {},
     "output_type": "display_data"
    }
   ],
   "source": [
    "@widgets.interact(a=(0.0,9),s=(0.1,10))\n",
    "def plot_Twavi(a=4.5,s=1):\n",
    "    beta=1.87\n",
    "    omega = np.array(np.meshgrid(range(10))).T.reshape(-1,1)\n",
    "    def fi(x): return np.sin(x)/2 + 1/2\n",
    "    xs = np.linspace(0,9,100)\n",
    "    fig, axs = plt.subplots(1,2,figsize=(10,5))\n",
    "    axs[0].plot(xs,[fi(x) for x in xs], label=\"$f_i(x)$\")\n",
    "    axs[0].plot(xs,[psi(x,a=np.array([a]),s=s,omega=omega,beta=beta) for x in xs], label=r'$\\psi_a^s(x)$')\n",
    "    axs[1].plot(xs,[Twavfi(a=x,s=s,omega=omega,beta=beta,fi=fi) for x in xs])\n",
    "    axs[0].set_xlabel(r'$x$')\n",
    "    axs[1].set_xlabel(r'$a$')\n",
    "    axs[1].set_ylabel(r'$(T^{wav}f_i)(a,s)$')\n",
    "    axs[0].legend()\n",
    "    plt.show()"
   ]
  },
  {
   "cell_type": "markdown",
   "id": "98a29fd8",
   "metadata": {
    "slideshow": {
     "slide_type": "subslide"
    }
   },
   "source": [
    "### Wavelet genetic dissimilarity\n",
    "$$\n",
    "D_{a,b}^{wav}(s) = \\sqrt{\\sum_{i=1}^I [(T^{wav}f_i)(a,b,s)]^2}\n",
    "$$"
   ]
  },
  {
   "cell_type": "code",
   "execution_count": 10,
   "id": "cbdc9511",
   "metadata": {
    "scrolled": true,
    "slideshow": {
     "slide_type": "fragment"
    }
   },
   "outputs": [],
   "source": [
    "def Dwav(a,s,omega,beta,fis):\n",
    "    return sum([Twavfi(a,s,omega,beta,fi)**2 for fi in fis])**0.5"
   ]
  },
  {
   "cell_type": "code",
   "execution_count": 11,
   "id": "37578933",
   "metadata": {
    "scrolled": false,
    "slideshow": {
     "slide_type": "subslide"
    }
   },
   "outputs": [
    {
     "data": {
      "application/vnd.jupyter.widget-view+json": {
       "model_id": "",
       "version_major": 2,
       "version_minor": 0
      },
      "text/plain": [
       "interactive(children=(FloatSlider(value=4.5, description='a', max=9.0), FloatSlider(value=1.0, description='s'…"
      ]
     },
     "metadata": {},
     "output_type": "display_data"
    }
   ],
   "source": [
    "@widgets.interact(a=(0.0,9),s=(0.1,10))\n",
    "def plot_Twavi(a=4.5,s=1):\n",
    "    beta=1.87\n",
    "    omega = np.array(np.meshgrid(range(10))).T.reshape(-1,1)\n",
    "    def f1(x): return np.sin(x)/2 + 1/2\n",
    "    def f2(x): return np.sin(x/np.pi)/2 + 1/2\n",
    "    fis = [f1,f2]\n",
    "    xs = np.linspace(0,9,100)\n",
    "    fig, axs = plt.subplots(1,2,figsize=(10,5))\n",
    "    axs[0].plot(xs,[f1(x) for x in xs], label='$f_1(x)$')\n",
    "    axs[0].plot(xs,[f2(x) for x in xs], label='$f_2(x)$')\n",
    "    axs[0].plot(xs,[psi(x,a=np.array([a]),s=s,omega=omega,beta=beta) for x in xs], label=r'$\\psi_a^s(x)$')\n",
    "    axs[1].plot(xs,[Dwav(a=x,s=s,omega=omega,beta=beta,fis=fis) for x in xs])\n",
    "    axs[0].set_xlabel(r'$x$')\n",
    "    axs[1].set_xlabel(r'$a$')\n",
    "    axs[1].set_ylabel(r'$(D^{wav}_a)(s)$')\n",
    "    axs[0].legend()\n",
    "    plt.show()"
   ]
  },
  {
   "cell_type": "markdown",
   "id": "37247f8a",
   "metadata": {
    "slideshow": {
     "slide_type": "subslide"
    }
   },
   "source": [
    "### Scaled wavelet variance\n",
    "$$\n",
    "var((T^{wav}f_i)(a,b,s)/sd(f_i))\n",
    "$$"
   ]
  },
  {
   "cell_type": "code",
   "execution_count": 12,
   "id": "00cd3c7c",
   "metadata": {
    "scrolled": true,
    "slideshow": {
     "slide_type": "fragment"
    }
   },
   "outputs": [],
   "source": [
    "def varT(s,omega,beta,fi):\n",
    "    fs = [fi(u) for u in omega]\n",
    "    Ts = [Twavfi(u,s,omega,beta,fi) for u in omega]\n",
    "    return np.var(Ts/np.var(fs)**0.5)"
   ]
  },
  {
   "cell_type": "code",
   "execution_count": 20,
   "id": "e2d761e3",
   "metadata": {
    "scrolled": false,
    "slideshow": {
     "slide_type": "subslide"
    }
   },
   "outputs": [
    {
     "data": {
      "application/vnd.jupyter.widget-view+json": {
       "model_id": "2da64587a7214b9ca85cec357a9b4ad3",
       "version_major": 2,
       "version_minor": 0
      },
      "text/plain": [
       "interactive(children=(FloatSlider(value=4.5, description='a', max=9.0), FloatSlider(value=1.0, description='s'…"
      ]
     },
     "metadata": {},
     "output_type": "display_data"
    }
   ],
   "source": [
    "@widgets.interact(a=(0.0,9),s=(0.1,10))\n",
    "def plot_varT(a=4.5,s=1):\n",
    "    beta=1.87\n",
    "    omega = np.array(np.meshgrid(range(10))).T.reshape(-1,1)\n",
    "    def f1(x): return np.sin(x)/2 + 1/2\n",
    "    def f2(x): return np.sin(x/np.pi)/2 + 1/2\n",
    "    fis = [f1,f2]\n",
    "    xs = np.linspace(0,9,100)\n",
    "    fig, axs = plt.subplots(1,2,figsize=(10,5))\n",
    "    axs[0].plot(xs,[f1(x) for x in xs], label='$f_1(x)$')\n",
    "    axs[0].plot(xs,[f2(x) for x in xs], label='$f_2(x)$')\n",
    "    axs[0].plot(xs,[psi(x,a=np.array([a]),s=s,omega=omega,beta=beta) for x in xs], label=r'$\\psi_a^s(x)$')\n",
    "    ss = np.linspace(1,5,100)\n",
    "    axs[1].plot(ss,[varT(s=s,omega=omega,beta=beta,fi=f1) for s in ss], label='$f_1$')\n",
    "    axs[1].plot(ss,[varT(s=s,omega=omega,beta=beta,fi=f2) for s in ss], label='$f_2$')\n",
    "    axs[0].set_xlabel(r'$x$')\n",
    "    axs[1].set_xlabel(r'$s$')\n",
    "    axs[1].set_ylabel(r'$var((T^{wav}f_i)(a,b,s)/sd(f_i))$')\n",
    "    axs[0].legend()\n",
    "    axs[1].legend()\n",
    "    plt.show()"
   ]
  },
  {
   "cell_type": "markdown",
   "id": "58747587",
   "metadata": {
    "slideshow": {
     "slide_type": "slide"
    }
   },
   "source": [
    "## Simulations"
   ]
  },
  {
   "cell_type": "markdown",
   "id": "2ef8fcff",
   "metadata": {
    "slideshow": {
     "slide_type": "subslide"
    }
   },
   "source": [
    "![image](images/fig-1.png)"
   ]
  },
  {
   "cell_type": "markdown",
   "id": "a61da321",
   "metadata": {
    "slideshow": {
     "slide_type": "subslide"
    }
   },
   "source": [
    "   ![image](images/fig-2.png)"
   ]
  },
  {
   "cell_type": "markdown",
   "id": "7fe21fac",
   "metadata": {
    "slideshow": {
     "slide_type": "subslide"
    }
   },
   "source": [
    "   ![image](images/fig-3.png)"
   ]
  },
  {
   "cell_type": "markdown",
   "id": "80a31c9c",
   "metadata": {
    "slideshow": {
     "slide_type": "subslide"
    }
   },
   "source": [
    "   ![image](images/fig-4.png)"
   ]
  },
  {
   "cell_type": "markdown",
   "id": "efd1b445",
   "metadata": {
    "slideshow": {
     "slide_type": "subslide"
    }
   },
   "source": [
    "   ![image](images/fig-5.png)"
   ]
  },
  {
   "cell_type": "markdown",
   "id": "65848506",
   "metadata": {
    "slideshow": {
     "slide_type": "slide"
    }
   },
   "source": [
    "## Application"
   ]
  },
  {
   "cell_type": "markdown",
   "id": "891b15fb",
   "metadata": {
    "slideshow": {
     "slide_type": "subslide"
    }
   },
   "source": [
    "   ![image](images/fig-6.png)"
   ]
  },
  {
   "cell_type": "markdown",
   "id": "144d3ce8",
   "metadata": {
    "slideshow": {
     "slide_type": "subslide"
    }
   },
   "source": [
    "   ![image](images/fig-7.png)"
   ]
  },
  {
   "cell_type": "markdown",
   "id": "5912ab15",
   "metadata": {
    "slideshow": {
     "slide_type": "subslide"
    }
   },
   "source": [
    "   ![image](images/fig-8.png)"
   ]
  },
  {
   "cell_type": "markdown",
   "id": "a0159acf",
   "metadata": {
    "slideshow": {
     "slide_type": "slide"
    }
   },
   "source": [
    "## Discussion\n",
    "\n",
    "Whattya think?"
   ]
  }
 ],
 "metadata": {
  "celltoolbar": "Slideshow",
  "kernelspec": {
   "display_name": "rise",
   "language": "python",
   "name": "rise"
  },
  "language_info": {
   "codemirror_mode": {
    "name": "ipython",
    "version": 3
   },
   "file_extension": ".py",
   "mimetype": "text/x-python",
   "name": "python",
   "nbconvert_exporter": "python",
   "pygments_lexer": "ipython3",
   "version": "3.8.0"
  },
  "rise": {
   "scroll": true,
   "start_slideshow_at": "beginning"
  }
 },
 "nbformat": 4,
 "nbformat_minor": 5
}
